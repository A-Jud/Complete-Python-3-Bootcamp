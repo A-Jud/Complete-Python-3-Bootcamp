{
 "cells": [
  {
   "cell_type": "markdown",
   "metadata": {},
   "source": [
    "# My Notes"
   ]
  },
  {
   "cell_type": "markdown",
   "metadata": {},
   "source": [
    "## Python DataTypes:\n",
    "\n",
    "\n",
    "| **Data type** | **Syntax** | **Example** |\n",
    "|:--------------|:-----------|:------------|\n",
    "| Integer | int | `x = 5` |\n",
    "| Float | float | `y = 3.14` |\n",
    "| String | str | `s = \"Hello\"` |\n",
    "| Boolean | bool | `b = True` |\n",
    "| List | list | `l = [1, 2, 3]` |\n",
    "| Tuple | tuple | `t = (4, 5, 6)` |\n",
    "| Dictionary | dict | `d = {\"a\": 7, \"b\": 8}` |\n",
    "| Set | set | `s = {9, 10, 11}` |\n",
    "\n"
   ]
  },
  {
   "cell_type": "markdown",
   "metadata": {},
   "source": []
  }
 ],
 "metadata": {
  "language_info": {
   "name": "python"
  }
 },
 "nbformat": 4,
 "nbformat_minor": 2
}
